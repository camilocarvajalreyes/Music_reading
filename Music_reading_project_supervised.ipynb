{
 "cells": [
  {
   "cell_type": "markdown",
   "metadata": {},
   "source": [
    "# Extracting Notes - symbol classification\n",
    "This project consists in classifying different symbols present in a music sheet using different machine learning tehcniques."
   ]
  },
  {
   "cell_type": "markdown",
   "metadata": {},
   "source": [
    "Authors: Camilo Carvajal Reyes, Nicolás Acuña Reyes, Ibrahim Kaddouri, Houdaifa Ahmidan"
   ]
  },
  {
   "cell_type": "markdown",
   "metadata": {},
   "source": [
    "## Data processing\n",
    "First we retreive the data using the provided python library"
   ]
  },
  {
   "cell_type": "code",
   "execution_count": 1,
   "metadata": {},
   "outputs": [],
   "source": [
    "import os\n",
    "from muscima.io import parse_cropobject_list\n",
    "\n",
    "# Change this to reflect wherever your MUSCIMA++ data lives\n",
    "CROPOBJECT_DIR = os.path.join(os.environ['HOME'], \n",
    "                              'ML_course/Music_reading_project/MUSCIMA-pp_v0.9/v0.9/data/cropobjects')\n",
    "\n",
    "cropobject_fnames = [os.path.join(CROPOBJECT_DIR, f) for f in os.listdir(CROPOBJECT_DIR)]\n",
    "docs = [parse_cropobject_list(f) for f in cropobject_fnames]   "
   ]
  },
  {
   "cell_type": "code",
   "execution_count": 2,
   "metadata": {},
   "outputs": [
    {
     "data": {
      "text/plain": [
       "muscima.cropobject.CropObject"
      ]
     },
     "execution_count": 2,
     "metadata": {},
     "output_type": "execute_result"
    }
   ],
   "source": [
    "type(docs[0][0])"
   ]
  },
  {
   "cell_type": "markdown",
   "metadata": {},
   "source": [
    "### Half notes and 4th notes classification\n",
    "We start with a simple case. Both note symbols have a steam and no beam or flag. Half notes have an empty notehead. On the other hand, 4th notes have a full notehead. For further explanation see the report."
   ]
  },
  {
   "cell_type": "code",
   "execution_count": 3,
   "metadata": {},
   "outputs": [],
   "source": [
    "# bear in mind that the outlinks are integers, only valid within the same document.\n",
    "# Therefore, we define a function per-document, not per-dataset.\n",
    "def extract_notes_from_doc(cropobjects):\n",
    "    \"\"\"Finds all ``(full-notehead, stem)`` pairs that form\n",
    "    quarter or half notes. Returns two lists of CropObject tuples:\n",
    "    one for quarter notes, one of half notes.\n",
    "\n",
    "    :returns: quarter_notes, half_notes\n",
    "    \"\"\"\n",
    "    _cropobj_dict = {c.objid: c for c in cropobjects}\n",
    "\n",
    "    notes = []\n",
    "    for c in cropobjects:\n",
    "        if (c.clsname == 'notehead-full') or (c.clsname == 'notehead-empty'):\n",
    "            _has_stem = False\n",
    "            _has_eflag = False\n",
    "            _has_sflag = False\n",
    "            _has_beam = False\n",
    "            stem_obj = None\n",
    "            efalg_obj = None\n",
    "            sfalg_obj = None\n",
    "            for o in c.outlinks:\n",
    "                _o_obj = _cropobj_dict[o]\n",
    "                if _o_obj.clsname == 'stem':\n",
    "                    stem_obj = _o_obj\n",
    "                    _has_stem = True\n",
    "                _j_obj = _cropobj_dict[o]\n",
    "                if _j_obj.clsname == '8th_flag':\n",
    "                    _has_eflag = True\n",
    "                    eflag_obj = _j_obj\n",
    "                _k_obj = _cropobj_dict[o]\n",
    "                if _k_obj.clsname == '16th_flag':\n",
    "                    _has_sflag = True\n",
    "                    sflag_obj = _k_obj\n",
    "                elif _o_obj.clsname == 'beam':\n",
    "                     _has_beam = True\n",
    "            if _has_stem and (not _has_beam):    \n",
    "                if  _has_eflag:\n",
    "                    if _has_sflag:\n",
    "                        notes.append((c, stem_obj, eflag_obj, sflag_obj))\n",
    "                    else:\n",
    "                        notes.append((c, stem_obj, eflag_obj))\n",
    "                elif len(stem_obj.inlinks) == 1:\n",
    "                        notes.append((c, stem_obj))\n",
    "        \n",
    "\n",
    "    quarter_notes = [n for n in notes if n[0].clsname == 'notehead-full' and len(n) == 2]\n",
    "    half_notes = [n for n in notes if n[0].clsname == 'notehead-empty']\n",
    "    e_notes = [n for n in notes if len(n) == 3]\n",
    "    s_notes = [n for n in notes if len(n) == 4]\n",
    "    return quarter_notes, half_notes, e_notes, s_notes\n",
    "\n",
    "qns_hns_ens_sns = [extract_notes_from_doc(cropobjects) for cropobjects in docs]"
   ]
  },
  {
   "cell_type": "markdown",
   "metadata": {},
   "source": [
    "### Clefs classification\n",
    "The same principle can be generalised. This case is easier as clefs are not defined piecewise as half and quarter notes "
   ]
  },
  {
   "cell_type": "code",
   "execution_count": 4,
   "metadata": {},
   "outputs": [],
   "source": [
    "def extract_clefs_from_doc(cropobjects):\n",
    "    _cropobj_dict = {c.objid: c for c in cropobjects}\n",
    "    clefs = []\n",
    "    for c in cropobjects:\n",
    "        if c.clsname.endswith('clef'):\n",
    "            clefs.append((c,c))\n",
    "    g_clefs = [n for n in clefs if len(n) == 2 and n[0].clsname == 'g-clef']\n",
    "    c_clefs = [n for n in clefs if len(n) == 2 and n[0].clsname == 'c-clef']\n",
    "    f_clefs = [n for n in clefs if len(n) == 2 and n[0].clsname == 'f-clef']\n",
    "    return g_clefs, c_clefs, f_clefs\n",
    "\n",
    "gcs_ccs_fcs = [extract_clefs_from_doc(cropobjects) for cropobjects in docs]"
   ]
  },
  {
   "cell_type": "markdown",
   "metadata": {},
   "source": [
    "### Dynamics classification\n",
    "Symbols indicating dynamics are composed by one to three lettres "
   ]
  },
  {
   "cell_type": "code",
   "execution_count": 5,
   "metadata": {},
   "outputs": [],
   "source": [
    "def extract_dtext_from_doc(cropobjects):   #extract dynamics text\n",
    "    _cropobj_dict = {c.objid: c for c in cropobjects}\n",
    "    ps,pps,mps,fs,ffs,sfs,mfs,fps,sfzs= [], [], [], [], [], [], [], [], []\n",
    "    for c in cropobjects:\n",
    "        if c.clsname == 'dynamics_text':\n",
    "            _has_p = False\n",
    "            _has_f = False\n",
    "            _has_m = False\n",
    "            _has_s = False\n",
    "            if len(c.outlinks) == 1:\n",
    "                letter = _cropobj_dict[c.outlinks[0]]\n",
    "                if letter.clsname.endswith('p'):\n",
    "                    ps.append((c,c))\n",
    "                if letter.clsname.endswith('f'):\n",
    "                    fs.append((c,c))\n",
    "            elif len(c.outlinks) == 2:\n",
    "                for j in c.outlinks:\n",
    "                    _j_obj = _cropobj_dict[j]\n",
    "                    if _j_obj.clsname.endswith('p'):\n",
    "                        _has_p = True\n",
    "                    elif _j_obj.clsname.endswith('f'):\n",
    "                        _has_f = True\n",
    "                    elif _j_obj.clsname.endswith('m'):\n",
    "                        _has_m = True\n",
    "                    elif _j_obj.clsname.endswith('s'):\n",
    "                        _has_s = True\n",
    "                if _has_p and _has_f :\n",
    "                    fps.append((c,c))\n",
    "                elif _has_p and _has_m :\n",
    "                    mps.append((c,c))\n",
    "                elif _has_m and _has_f :\n",
    "                    mfs.append((c,c))\n",
    "                elif _has_p and (not _has_m) and (not _has_f):\n",
    "                    pps.append((c,c))\n",
    "                elif _has_f and (not _has_p) and (not _has_m) and (not _has_s):\n",
    "                    ffs.append((c,c))\n",
    "                elif _has_f and _has_s:\n",
    "                    sfs.append((c,c))\n",
    "            elif len(c.outlinks) == 3:\n",
    "                sfzs.append((c,c))\n",
    "                    \n",
    "    return pps, ps, mps, mfs, fs, ffs, sfs, fps, sfzs\n",
    "\n",
    "\n",
    "dtexts = [extract_dtext_from_doc(cropobjects) for cropobjects in docs]"
   ]
  },
  {
   "cell_type": "markdown",
   "metadata": {},
   "source": [
    "### Extracting keys\n",
    "Then keys are denoted at the begining of each line by flats and sharps. Then the tonality of the music is determined by which notes are sharp or flat. For instance, F sharp and C sharp denote that the music is either in the key of D or in the key of B minor. In this data set, sharps and flats denoting the key are considered appart of the accidental ones. Furthermore, they are grouped together for each key pair."
   ]
  },
  {
   "cell_type": "code",
   "execution_count": 6,
   "metadata": {},
   "outputs": [],
   "source": [
    "def extract_keys_from_doc(cropobjects):   #extract dynamics text\n",
    "    _cropobj_dict = {c.objid: c for c in cropobjects}\n",
    "    GEs, DBs, AFss, ECss, BGss, FsDss, CsAss, FDs = [], [], [], [], [], [], [], []\n",
    "    BfGs, EfCs, AfFs, DfBfs, GfEfs, CfAfs = [], [], [], [], [], []\n",
    "    for c in cropobjects:\n",
    "        if c.clsname == 'key_signature':\n",
    "            if _cropobj_dict[c.outlinks[0]].clsname == 'sharp':\n",
    "                if len(c.outlinks) == 1 :\n",
    "                    GEs.append((c,c))\n",
    "                if len(c.outlinks) == 2 :\n",
    "                    DBs.append((c,c))\n",
    "                if len(c.outlinks) == 3 :\n",
    "                    AFss.append((c,c))\n",
    "                if len(c.outlinks) == 4 :\n",
    "                    ECss.append((c,c))\n",
    "                if len(c.outlinks) == 5 :\n",
    "                    BGss.append((c,c))\n",
    "                if len(c.outlinks) == 6 :\n",
    "                    FsDss.append((c,c))\n",
    "                if len(c.outlinks) == 7 :\n",
    "                    CsAss.append((c,c))\n",
    "            elif _cropobj_dict[c.outlinks[0]].clsname == 'flat':\n",
    "                if len(c.outlinks) == 1 :\n",
    "                    FDs.append((c,c))\n",
    "                if len(c.outlinks) == 2 :\n",
    "                    BfGs.append((c,c))\n",
    "                if len(c.outlinks) == 3 :\n",
    "                    EfCs.append((c,c))\n",
    "                if len(c.outlinks) == 4 :\n",
    "                    AfFs.append((c,c))\n",
    "                if len(c.outlinks) == 5 :\n",
    "                    DfBfs.append((c,c))\n",
    "                if len(c.outlinks) == 6 :\n",
    "                    GfEfs.append((c,c))\n",
    "                if len(c.outlinks) == 7 :\n",
    "                    CfAfs.append((c,c))\n",
    "                    \n",
    "    return  GEs, DBs, AFss, ECss, BGss, FsDss, CsAss, FDs, BfGs, EfCs, AfFs, DfBfs, GfEfs, CfAfs\n",
    "\n",
    "keys = [extract_keys_from_doc(cropobjects) for cropobjects in docs]"
   ]
  },
  {
   "cell_type": "markdown",
   "metadata": {},
   "source": [
    "### Amount of elements per symbol"
   ]
  },
  {
   "cell_type": "code",
   "execution_count": 7,
   "metadata": {},
   "outputs": [
    {
     "name": "stdout",
     "output_type": "stream",
     "text": [
      "# of quarter notes = 4331\n",
      "# of quarter notes = 1181\n",
      "# of quarter notes = 1753\n",
      "# of quarter notes = 390\n"
     ]
    }
   ],
   "source": [
    "import itertools\n",
    "def len_notes():\n",
    "    qns = list(itertools.chain(*[qn for qn, hn, en, sn in qns_hns_ens_sns]))\n",
    "    hns = list(itertools.chain(*[hn for qn, hn, en, sn in qns_hns_ens_sns]))\n",
    "    ens = list(itertools.chain(*[en for qn, hn, en, sn in qns_hns_ens_sns]))\n",
    "    sns = list(itertools.chain(*[sn for qn, hn ,en, sn in qns_hns_ens_sns]))\n",
    "    print(\"# of quarter notes = {}\".format(len(qns)))\n",
    "    print(\"# of quarter notes = {}\".format(len(hns)))\n",
    "    print(\"# of quarter notes = {}\".format(len(ens)))\n",
    "    print(\"# of quarter notes = {}\".format(len(sns)))\n",
    "    return qns, hns, ens, sns\n",
    "qns, hns, ens, sns = len_notes()"
   ]
  },
  {
   "cell_type": "code",
   "execution_count": 8,
   "metadata": {},
   "outputs": [
    {
     "name": "stdout",
     "output_type": "stream",
     "text": [
      "# of g-clefs = 401\n",
      "# of alto clefs = 190\n",
      "# of bass clefs = 285\n"
     ]
    }
   ],
   "source": [
    "def len_clefs():\n",
    "    gcs = list(itertools.chain(*[gc for gc, cc, fc in gcs_ccs_fcs]))\n",
    "    ccs = list(itertools.chain(*[cc for gc, cc, fc in gcs_ccs_fcs]))\n",
    "    fcs = list(itertools.chain(*[fc for gc, cc, fc in gcs_ccs_fcs]))\n",
    "    print(\"# of g-clefs = {}\".format(len(gcs)))\n",
    "    print(\"# of alto clefs = {}\".format(len(ccs)))\n",
    "    print(\"# of bass clefs = {}\".format(len(fcs)))\n",
    "    return gcs, ccs, fcs\n",
    "gcs, ccs, fcs = len_clefs()"
   ]
  },
  {
   "cell_type": "code",
   "execution_count": 9,
   "metadata": {},
   "outputs": [
    {
     "name": "stdout",
     "output_type": "stream",
     "text": [
      "# of GE key signatures = 269\n",
      "# of DB key signatures = 172\n",
      "# of AFs key signatures = 0\n",
      "# of ECs key signatures = 0\n",
      "# of BGs key signatures = 0\n",
      "# of FsDs key signatures = 0\n",
      "# of CsAs key signatures = 0\n",
      "# of FD key signatures = 9\n",
      "# of BfG key signatures = 78\n",
      "# of EfC key signatures = 80\n",
      "# of AfF key signatures = 80\n",
      "# of DfBf key signatures = 0\n",
      "# of GfEf key signatures = 0\n",
      "# of CfAf key signatures = 0\n"
     ]
    }
   ],
   "source": [
    "# these are the key signatures we have in the data\n",
    "def len_keys():\n",
    "    dic = {}\n",
    "    keys_str=['GE', 'DB', 'AFs', 'ECs', 'BGs', 'FsDs', 'CsAs', 'FD', 'BfG', 'EfC', 'AfF', 'DfBf', 'GfEf', 'CfAf']\n",
    "    for key in keys_str:\n",
    "        index = keys_str.index(key)\n",
    "        dic[key] = list(itertools.chain(*[[GE, DB, AFs, ECs, BGs, FsDs, CsAs,FD,\n",
    "                                           BfG, EfC, AfF, DfBf, GfEf, CfAf][index] \n",
    "                                          for GE, DB, AFs, ECs, BGs, FsDs, CsAs, \n",
    "                                 FD, BfG, EfC, AfF, DfBf, GfEf, CfAf in keys]))\n",
    "        print(\"# of {} key signatures = {}\".format(key,len(dic[key])))\n",
    "    return dic\n",
    "GEs, DBs, AFs, ECs, BGs, FsDs, CsAs,FDs, BfGs, EfCs, AfFs, DfBfs, GfEfs, CfAfs = tuple(len_keys().values())"
   ]
  },
  {
   "cell_type": "markdown",
   "metadata": {},
   "source": [
    "We keep GE DB BfG EfC AfF from now on, not enough data for the rest"
   ]
  },
  {
   "cell_type": "code",
   "execution_count": 10,
   "metadata": {},
   "outputs": [
    {
     "name": "stdout",
     "output_type": "stream",
     "text": [
      "# of dynamic pp = 68\n",
      "# of dynamic p = 193\n",
      "# of dynamic mp = 6\n",
      "# of dynamic mf = 48\n",
      "# of dynamic f = 111\n",
      "# of dynamic ff = 112\n",
      "# of dynamic sf = 48\n",
      "# of dynamic fp = 22\n",
      "# of dynamic sfz = 37\n"
     ]
    }
   ],
   "source": [
    "# these are the dynamics texts we have in the database\n",
    "def len_dynamics():\n",
    "    dic = {}\n",
    "    din_str=['pp', 'p', 'mp', 'mf', 'f', 'ff', 'sf', 'fp', 'sfz']\n",
    "    for din in din_str:\n",
    "        index = din_str.index(din)\n",
    "        dic[din] = list(itertools.chain(*[[pp, p, mp, mf, f, ff, sf, fp, sfz][index] \n",
    "                                          for pp, p, mp, mf, f, ff, sf, fp, sfz in dtexts]))\n",
    "        print(\"# of dynamic {} = {}\".format(din,len(dic[din])))\n",
    "    return dic\n",
    "pps, ps, mps, mfs, fs, ffs, sfs, fps, sfzs = tuple(len_dynamics().values())"
   ]
  },
  {
   "cell_type": "markdown",
   "metadata": {},
   "source": [
    "We only have 6 mp's so we don't consider it for the classification"
   ]
  },
  {
   "cell_type": "markdown",
   "metadata": {},
   "source": [
    "## Getting images\n",
    "Images can be retreived by reconstructing the image using the binary representation"
   ]
  },
  {
   "cell_type": "code",
   "execution_count": 11,
   "metadata": {},
   "outputs": [],
   "source": [
    "import numpy\n",
    "\n",
    "def get_image(cropobjects, margin=1):\n",
    "    \"\"\"Paste the cropobjects' mask onto a shared canvas.\n",
    "    There will be a given margin of background on the edges.\"\"\"\n",
    "\n",
    "    # Get the bounding box into which all the objects fit\n",
    "    top = min([c.top for c in cropobjects])\n",
    "    left = min([c.left for c in cropobjects])\n",
    "    bottom = max([c.bottom for c in cropobjects])\n",
    "    right = max([c.right for c in cropobjects])\n",
    "\n",
    "    # Create the canvas onto which the masks will be pasted\n",
    "    height = bottom - top + 2 * margin\n",
    "    width = right - left + 2 * margin\n",
    "    canvas = numpy.zeros((height, width), dtype='uint8')\n",
    "\n",
    "    for c in cropobjects:\n",
    "        # Get coordinates of upper left corner of the CropObject\n",
    "        # relative to the canvas\n",
    "        _pt = c.top - top + margin\n",
    "        _pl = c.left - left + margin\n",
    "        # We have to add the mask, so as not to overwrite\n",
    "        # previous nonzeros when symbol bounding boxes overlap.\n",
    "        canvas[_pt:_pt+c.height, _pl:_pl+c.width] += c.mask\n",
    "\n",
    "    canvas[canvas > 0] = 1\n",
    "    return canvas"
   ]
  },
  {
   "cell_type": "code",
   "execution_count": 12,
   "metadata": {},
   "outputs": [],
   "source": [
    "def get_note_images():\n",
    "    qn_images = [get_image(qn) for qn in qns]\n",
    "    hn_images = [get_image(hn) for hn in hns]\n",
    "    en_images = [get_image(en) for en in ens]\n",
    "    sn_images = [get_image(sn) for sn in sns]\n",
    "    return qn_images, hn_images, en_images, sn_images\n",
    "qn_images, hn_images, en_images, sn_images = get_note_images()\n",
    "\n",
    "def get_clef_images():\n",
    "    gc_images = [get_image(gc) for gc in gcs]\n",
    "    cc_images = [get_image(cc) for cc in ccs]\n",
    "    fc_images = [get_image(fc) for fc in fcs]\n",
    "    return gc_images, cc_images, fc_images\n",
    "gc_images, cc_images, fc_images = get_clef_images()\n",
    "\n",
    "def get_key_images():\n",
    "    GE_images = [get_image(GE) for GE in GEs]\n",
    "    DB_images = [get_image(DB) for DB in DBs]\n",
    "    BfG_images = [get_image(BfG) for BfG in BfGs]\n",
    "    EfC_images = [get_image(EfC) for EfC in EfCs]\n",
    "    AfF_images = [get_image(AfF) for AfF in AfFs]\n",
    "    return GE_images, DB_images, BfG_images, EfC_images, AfF_images\n",
    "GE_images, DB_images, BfG_images, EfC_images, AfF_images = get_key_images()\n",
    "\n",
    "#dynamics texts :\n",
    "def get_din_images():\n",
    "    p_images = [get_image(p) for p in ps]\n",
    "    pp_images = [get_image(pp) for pp in pps]\n",
    "    ff_images = [get_image(ff) for ff in ffs]\n",
    "    sf_images = [get_image(sf) for sf in sfs]\n",
    "    fp_images = [get_image(fp) for fp in fps]\n",
    "    f_images = [get_image(f) for f in fs]\n",
    "    sfz_images = [get_image(sfz) for sfz in sfzs]\n",
    "    mf_images = [get_image(mf) for mf in mfs]\n",
    "    return pp_images, p_images, mf_images, f_images, ff_images, sf_images, fp_images, sfz_images\n",
    "pp_images, p_images, mf_images, f_images, ff_images, sf_images, fp_images, sfz_images = get_din_images()"
   ]
  },
  {
   "cell_type": "markdown",
   "metadata": {},
   "source": [
    "### From binary to actual image"
   ]
  },
  {
   "cell_type": "code",
   "execution_count": 13,
   "metadata": {},
   "outputs": [],
   "source": [
    "import matplotlib.pyplot as plt\n",
    "\n",
    "def show_mask(mask):\n",
    "    plt.imshow(mask, cmap='gray', interpolation='nearest')\n",
    "    plt.show()\n",
    "\n",
    "def show_masks(masks, row_length=5):\n",
    "    n_masks = len(masks)\n",
    "    n_rows = n_masks // row_length + 1\n",
    "    n_cols = min(n_masks, row_length)\n",
    "    fig = plt.figure()\n",
    "    for i, mask in enumerate(masks):\n",
    "        plt.subplot(n_rows, n_cols, i+1)\n",
    "        plt.imshow(mask, cmap='gray', interpolation='nearest')\n",
    "    # Let's remove the axis labels, they clutter the image.\n",
    "    for ax in fig.axes:\n",
    "        ax.set_yticklabels([])\n",
    "        ax.set_xticklabels([])\n",
    "        ax.set_yticks([])\n",
    "        ax.set_xticks([])\n",
    "    plt.show()"
   ]
  },
  {
   "cell_type": "markdown",
   "metadata": {},
   "source": [
    "### Showing mask for a given symbol set"
   ]
  },
  {
   "cell_type": "code",
   "execution_count": 14,
   "metadata": {},
   "outputs": [],
   "source": [
    "def show_mask_notes():\n",
    "    qn_images, hn_images, en_images, sn_images = get_note_images()\n",
    "    for note in [qn_images, hn_images, en_images, sn_images]:\n",
    "        show_masks(note[:25])\n",
    "\n",
    "def show_mask_clefs():\n",
    "    gc_images, cc_images, fc_images = get_clef_images()\n",
    "    for clef in [gc_images, cc_images, fc_images]:\n",
    "        show_masks(clef[:25])\n",
    "\n",
    "#key signatures\n",
    "def show_mask_keys():\n",
    "    GE_images, DB_images, BfG_images, EfC_images, AfF_images = get_key_images()\n",
    "    for key in [GE_images, DB_images, BfG_images, EfC_images, AfF_images]:\n",
    "        show_masks(key[:25])\n",
    "\n",
    "\n",
    "#dynamics text:\n",
    "def show_mask_dynamics():\n",
    "    pp_images, p_images, mf_images, f_images, ff_images, sf_images, fp_images, sfz_images = get_din_images()\n",
    "    for din in [pp_images, p_images, mf_images, f_images, ff_images, sf_images, fp_images, sfz_images]:\n",
    "        show_masks(din[:25])\n",
    "    \n",
    "    \n",
    "#show_mask_notes()\n",
    "#show_mask_clefs()\n",
    "#show_mask_keys()\n",
    "#show_mask_dynamics()"
   ]
  },
  {
   "cell_type": "code",
   "execution_count": 17,
   "metadata": {},
   "outputs": [],
   "source": [
    "from skimage.transform import resize\n",
    "# And re-binarize, to compensate for interpolation effects\n",
    "#notes\n",
    "notes_size=(150,90)\n",
    "def resize_notes():\n",
    "    en_resized = [resize(en, notes_size) for en in en_images]\n",
    "    sn_resized = [resize(sn, notes_size) for sn in sn_images]\n",
    "    qn_resized = [resize(qn, notes_size) for qn in qn_images]\n",
    "    hn_resized = [resize(hn, notes_size) for hn in hn_images]\n",
    "\n",
    "    for en in en_resized:\n",
    "        en[en > 0] = 1\n",
    "    for sn in sn_resized:\n",
    "        sn[sn > 0] = 1\n",
    "    for qn in qn_resized:\n",
    "        qn[qn > 0] = 1\n",
    "    for hn in hn_resized:\n",
    "        hn[hn > 0] = 1\n",
    "    return en_resized, sn_resized, qn_resized, hn_resized\n",
    "#en_resized, sn_resized, qn_resized, hn_resized = resize_notes()\n",
    "\n",
    "clef_size = (150, 90)\n",
    "def resize_clefs():\n",
    "    gc_resized = [resize(gc,clef_size) for gc in gc_images]\n",
    "    cc_resized = [resize(cc, clef_size) for cc in cc_images]\n",
    "    fc_resized = [resize(fc, clef_size) for fc in fc_images]\n",
    "\n",
    "    for gc in gc_resized:\n",
    "        gc[gc > 0] = 1\n",
    "    for cc in cc_resized:\n",
    "        cc[cc > 0] = 1\n",
    "    for fc in fc_resized:\n",
    "        fc[fc > 0] = 1\n",
    "    return gc_resized, cc_resized, fc_resized\n",
    "#gc_resized, cc_resized, fc_resized = resize_clefs()\n",
    "   \n",
    "size_signatures = (150,90)\n",
    "def resize_signatures():\n",
    "    GE_resized = [resize(GE, size_signatures) for GE in GE_images ]\n",
    "    DB_resized = [resize(DB, size_signatures) for DB in DB_images ]\n",
    "    BfG_resized = [resize(BfG, size_signatures) for BfG in BfG_images ] \n",
    "    EfC_resized = [resize(EfC, size_signatures) for EfC in EfC_images ]\n",
    "    AfF_resized = [resize(AfF, size_signatures) for AfF in AfF_images ]\n",
    "\n",
    "    for GE in GE_resized:\n",
    "        GE[GE > 0] = 1\n",
    "    for DB in DB_resized:\n",
    "        DB[DB > 0] = 1\n",
    "    for BfG in BfG_resized:\n",
    "        BfG[BfG > 0] = 1\n",
    "    for EfC in EfC_resized:\n",
    "        EfC[EfC > 0] = 1\n",
    "    for AfF in AfF_resized:\n",
    "        AfF[AfF > 0] = 1\n",
    "    return GE_resized, DB_resized, BfG_resized, EfC_resized, AfF_resized\n",
    "#GE_resized, DB_resized, BfG_resized, EfC_resized, AfF_resized = resize_signatures()\n",
    "\n",
    "\n",
    "size_dynamics = (100,100)\n",
    "def resize_dynamics():\n",
    "    p_resized = [resize(p, size_dynamics) for p in p_images]\n",
    "    pp_resized = [resize(pp,size_dynamics) for pp in pp_images]\n",
    "    fp_resized = [resize(fp, size_dynamics) for fp in fp_images]\n",
    "    f_resized = [resize(f, size_dynamics) for f in f_images]\n",
    "    ff_resized = [resize(ff,size_dynamics) for ff in ff_images]\n",
    "    sf_resized = [resize(sf, size_dynamics) for sf in sf_images]\n",
    "    mf_resized = [resize(mf, size_dynamics) for mf in mf_images]\n",
    "    sfz_resized = [resize(sfz, size_dynamics) for sfz in sfz_images]\n",
    "    for dyn_rs in [p_resized, pp_resized, fp_resized, f_resized, ff_resized, sf_resized, mf_resized, sfz_resized]:\n",
    "        for dyn in dyn_rs:\n",
    "            dyn[dyn > 0] = 1\n",
    "    return pp_resized, p_resized, mf_resized, f_resized, ff_resized, sf_resized, fp_resized, sfz_resized\n",
    "\n",
    "pp_resized, p_resized, mf_resized, f_resized, ff_resized, sf_resized, fp_resized, sfz_resized=resize_dynamics()"
   ]
  },
  {
   "cell_type": "markdown",
   "metadata": {},
   "source": [
    "Example of visualization of resized images"
   ]
  },
  {
   "cell_type": "code",
   "execution_count": 18,
   "metadata": {},
   "outputs": [
    {
     "data": {
      "image/png": "[encoded data removed]",
      "text/plain": [
       "<Figure size 432x288 with 5 Axes>"
      ]
     },
     "metadata": {},
     "output_type": "display_data"
    },
    {
     "data": {
      "image/png": "[encoded data removed]",
      "text/plain": [
       "<Figure size 432x288 with 5 Axes>"
      ]
     },
     "metadata": {},
     "output_type": "display_data"
    },
    {
     "data": {
      "image/png": "[encoded data removed]",
      "text/plain": [
       "<Figure size 432x288 with 5 Axes>"
      ]
     },
     "metadata": {},
     "output_type": "display_data"
    },
    {
     "data": {
      "image/png": "[encoded data removed]",
      "text/plain": [
       "<Figure size 432x288 with 5 Axes>"
      ]
     },
     "metadata": {},
     "output_type": "display_data"
    },
    {
     "data": {
      "image/png": "[encoded data removed]",
      "text/plain": [
       "<Figure size 432x288 with 5 Axes>"
      ]
     },
     "metadata": {},
     "output_type": "display_data"
    },
    {
     "data": {
      "image/png": "[encoded data removed]",
      "text/plain": [
       "<Figure size 432x288 with 5 Axes>"
      ]
     },
     "metadata": {},
     "output_type": "display_data"
    },
    {
     "data": {
      "image/png": "[encoded data removed]",
      "text/plain": [
       "<Figure size 432x288 with 5 Axes>"
      ]
     },
     "metadata": {},
     "output_type": "display_data"
    },
    {
     "data": {
      "image/png": "[encoded data removed]",
      "text/plain": [
       "<Figure size 432x288 with 5 Axes>"
      ]
     },
     "metadata": {},
     "output_type": "display_data"
    }
   ],
   "source": [
    "for dyn_rs in [pp_resized, p_resized, mf_resized, f_resized, ff_resized, sf_resized, fp_resized, sfz_resized]:\n",
    "    show_masks(dyn_rs[:5])"
   ]
  },
  {
   "cell_type": "markdown",
   "metadata": {},
   "source": [
    "Now in order to have a better classification we'll balance the sets"
   ]
  },
  {
   "cell_type": "code",
   "execution_count": 19,
   "metadata": {},
   "outputs": [],
   "source": [
    "import random\n",
    "\n",
    "def balance_notes():\n",
    "    en_resized, sn_resized, qn_resized, hn_resized = resize_notes()\n",
    "    n_sns = len(sn_resized) #less numerous set\n",
    "    random.shuffle(qn_resized)\n",
    "    qn_selected = qn_resized[:n_sns]\n",
    "    random.shuffle(hn_resized)\n",
    "    hn_selected = hn_resized[:n_sns]\n",
    "    random.shuffle(en_resized)\n",
    "    en_selected = en_resized[:n_sns]\n",
    "    return qn_selected, hn_selected, en_selected\n",
    "#qn_selected, hn_selected, en_selected = balance_notes()\n",
    "\n",
    "def balance_clefs():\n",
    "    gc_resized, cc_resized, fc_resized = resize_clefs()\n",
    "    n_cc = len(fc_resized)\n",
    "    random.shuffle(gc_resized)\n",
    "    gc_selected = gc_resized[:n_cc]\n",
    "    random.shuffle(fc_resized)\n",
    "    fc_selected = fc_resized[:n_cc]\n",
    "    return gc_selected, fc_selected\n",
    "#gc_selected, fc_selected = balance_clefs()\n",
    "\n",
    "def balance_keys():\n",
    "    GE_resized, DB_resized, BfG_resized, EfC_resized, AfF_resized = resize_signatures()\n",
    "    n_BfG = len(BfG_resized)\n",
    "    random.shuffle(GE_resized)\n",
    "    GE_selected = GE_resized[:n_BfG]\n",
    "    random.shuffle(DB_resized)\n",
    "    DB_selected = DB_resized[:n_BfG]\n",
    "    random.shuffle(EfC_resized)\n",
    "    EfC_selected = EfC_resized[:n_BfG]\n",
    "    random.shuffle(AfF_resized)\n",
    "    AfF_selected = AfF_resized[:n_BfG]\n",
    "    return GE_selected, DB_selected, EfC_selected, AfF_selected\n",
    "#GE_selected, DB_selected, EfC_selected, AfF_selected = balance_keys()\n",
    "\n",
    "def balance_dynamics():\n",
    "    p_resized, pp_resized, fp_resized, f_resized, ff_resized, sf_resized, mf_resized, sfz_resized=resize_dynamics()\n",
    "    n = len(sf_resized)\n",
    "    random.shuffle(p_resized)\n",
    "    p_selected = p_resized[:n]\n",
    "    random.shuffle(pp_resized)\n",
    "    pp_selected = pp_resized[:n]\n",
    "    random.shuffle(f_resized)\n",
    "    f_selected = f_resized[:n]\n",
    "    random.shuffle(ff_resized)\n",
    "    ff_selected = ff_resized[:n]\n",
    "    random.shuffle(sf_resized)\n",
    "    sf_selected = sf_resized[:n]\n",
    "    random.shuffle(mf_resized)\n",
    "    mf_selected = mf_resized[:n]\n",
    "    return p_selected, pp_selected,  mf_selected, f_selected, ff_selected, sf_selected\n",
    "#p_selected, pp_selected,  mf_selected, f_selected, ff_selected, sf_selected = balance_dynamics()\n"
   ]
  },
  {
   "cell_type": "code",
   "execution_count": 65,
   "metadata": {},
   "outputs": [],
   "source": [
    "#notes \n",
    "def labels_notes():\n",
    "    qn_selected, hn_selected, en_selected = balance_notes()\n",
    "    E_LABEL = 1\n",
    "    Q_LABEL = 2\n",
    "    H_LABEL = 3\n",
    "\n",
    "    en_labels = [E_LABEL for _ in en_selected]\n",
    "    qn_labels = [Q_LABEL for _ in qn_selected]\n",
    "    hn_labels = [H_LABEL for _ in hn_selected]\n",
    "\n",
    "    notes = en_selected + qn_selected + hn_selected\n",
    "    notes_flattened = [n.flatten() for n in notes]  #flatten data\n",
    "    labels = en_labels + qn_labels + hn_labels\n",
    "    return notes, notes_flattened, labels\n",
    "#notes, notes_flattened, labels = labels_notes()\n",
    "\n",
    "def labels_clefs():\n",
    "    gc_selected, fc_selected = balance_clefs()\n",
    "    G_LABEL = 4\n",
    "    F_LABEL = 6\n",
    "\n",
    "    gc_labels = [G_LABEL for _ in gc_selected]\n",
    "    fc_labels = [F_LABEL for _ in fc_selected]\n",
    "\n",
    "    clefs = gc_selected + fc_selected\n",
    "    clefs_flattened = [n.flatten() for n in clefs]  #flatten data\n",
    "    labels = gc_labels + fc_labels\n",
    "    return notes, clefs_flattened, labels\n",
    "#notes, notes_flattened, labels = labels_clefs()\n",
    "\n",
    "def labels_keys():\n",
    "    GE_selected, DB_selected, EfC_selected, AfF_selected = balance_keys()\n",
    "    GE_LABEL = 8\n",
    "    DB_LABEL = 9\n",
    "    EfC_LABEL = 10\n",
    "    AfF_LABEL = 11\n",
    "\n",
    "    GE_labels = [GE_LABEL for _ in GE_selected]\n",
    "    DB_labels = [DB_LABEL for _ in DB_selected]\n",
    "    EfC_labels = [EfC_LABEL for _ in EfC_selected]\n",
    "    AfF_labels = [AfF_LABEL for _ in AfF_selected]\n",
    "\n",
    "    keys =  GE_selected + DB_selected + EfC_selected + AfF_selected\n",
    "    keys_flattened = [n.flatten() for n in keys]  #flatten data\n",
    "    labels = GE_labels + DB_labels + EfC_labels + AfF_labels\n",
    "    return notes, keys_flattened, labels\n",
    "#notes, notes_flattened, labels = labels_keys()\n",
    "\n",
    "def labels_dyn():\n",
    "    p_selected, pp_selected,  mf_selected, f_selected, ff_selected, sf_selected = balance_dynamics()\n",
    "    pp_LABEL = 12 \n",
    "    p_LABEL = 13\n",
    "    mf_LABEL = 14\n",
    "    f_LABEL = 15\n",
    "    ff_LABEL = 16\n",
    "    sf_LABEL = 17\n",
    "\n",
    "    p_labels = [p_LABEL for _ in p_selected]\n",
    "    pp_labels = [pp_LABEL for _ in pp_selected]\n",
    "    f_labels = [f_LABEL for _ in f_selected]\n",
    "    ff_labels = [ff_LABEL for _ in ff_selected]\n",
    "    sf_labels = [sf_LABEL for _ in sf_selected]\n",
    "    mf_labels = [mf_LABEL for _ in mf_selected]\n",
    "\n",
    "    dtexts = pp_selected + p_selected + mf_selected + f_selected \n",
    "    dtexts = dtexts + ff_selected + sf_selected \n",
    "    dtexts_flattened = [n.flatten() for n in dtexts]  #flatten data\n",
    "    labels = pp_labels + p_labels + mf_labels + f_labels + ff_labels + sf_labels\n",
    "    return notes, dtexts_flattened, labels\n",
    "#notes, notes_flattened, labels = labels_dyn()\n"
   ]
  },
  {
   "cell_type": "code",
   "execution_count": 54,
   "metadata": {},
   "outputs": [],
   "source": [
    "from sklearn.model_selection import train_test_split\n",
    "\n",
    "def train_notes():\n",
    "    notes, notes_flattened, labels = labels_notes()\n",
    "    X_train, X_test, y_train, y_test = train_test_split(\n",
    "        notes_flattened, labels, test_size=0.25, random_state=42,\n",
    "        stratify=labels)\n",
    "    return  X_train, X_test, y_train, y_test\n",
    "#X_train, X_test, y_train, y_test = train_notes()"
   ]
  },
  {
   "cell_type": "code",
   "execution_count": 66,
   "metadata": {},
   "outputs": [],
   "source": [
    "def train_clefs():\n",
    "    notes, clefs_flattened, labels = labels_clefs()\n",
    "    X_train, X_test, y_train, y_test = train_test_split(clefs_flattened, labels,\n",
    "                                                        test_size=0.25, random_state=42,stratify=labels)\n",
    "    return X_train, X_test, y_train, y_test\n",
    "#X_train, X_test, y_train, y_test = train_clefs()"
   ]
  },
  {
   "cell_type": "code",
   "execution_count": 56,
   "metadata": {},
   "outputs": [],
   "source": [
    "def train_keys():\n",
    "    notes, keys_flattened, labels = labels_keys()\n",
    "    X_train, X_test, y_train, y_test = train_test_split(\n",
    "        keys_flattened, labels, test_size=0.25, random_state=42,stratify=labels)\n",
    "    return X_train, X_test, y_train, y_test\n",
    "#X_train, X_test, y_train, y_test = train_keys()"
   ]
  },
  {
   "cell_type": "code",
   "execution_count": 57,
   "metadata": {},
   "outputs": [],
   "source": [
    "def train_dyn():\n",
    "    notes, dtexts_flattened, labels = labels_dyn()\n",
    "    X_train, X_test, y_train, y_test = train_test_split(dtexts_flattened, labels, \n",
    "                                                        test_size=0.25, random_state=42,stratify=labels)\n",
    "    return X_train, X_test, y_train, y_test\n",
    "#X_train, X_test, y_train, y_test = train_dyn()"
   ]
  },
  {
   "cell_type": "code",
   "execution_count": 67,
   "metadata": {},
   "outputs": [],
   "source": [
    "from sklearn import svm\n",
    "from sklearn.ensemble import RandomForestClassifier, AdaBoostClassifier\n",
    "from sklearn.neural_network import MLPClassifier\n",
    "from sklearn.neighbors import KNeighborsClassifier\n",
    "\n",
    "def classifiers(case):\n",
    "    #case = notes, clefs, keys or dynamics\n",
    "    if case=='notes':\n",
    "        X_train, X_test, y_train, y_test = train_notes()\n",
    "    elif case=='clefs':\n",
    "        X_train, X_test, y_train, y_test = train_clefs()\n",
    "    elif case=='keys':\n",
    "        X_train, X_test, y_train, y_test = train_keys()\n",
    "    elif case=='dynamics':\n",
    "        X_train, X_test, y_train, y_test = train_dyn()\n",
    "    else:\n",
    "        print(\"error: pick correct case (notes, clefs, keys or dynamics)\")\n",
    "    clf = KNeighborsClassifier(n_neighbors=5)\n",
    "    clf.fit(X_train, y_train)\n",
    "\n",
    "    clf2 = RandomForestClassifier(n_estimators=300, random_state=0)  #porqué en 200?\n",
    "    clf2.fit(X_train, y_train)\n",
    "\n",
    "    clf3 = svm.SVC(decision_function_shape='ovo') #ver estos parametros\n",
    "    clf3.fit(X_train, y_train)\n",
    "\n",
    "    clf4 = AdaBoostClassifier(n_estimators=600, random_state=0)  #porqué en 600?\n",
    "    clf4.fit(X_train, y_train)\n",
    "\n",
    "    clf5=MLPClassifier(hidden_layer_sizes=(30,30,30))\n",
    "    clf5.fit(X_train, y_train)\n",
    "    return clf, clf2, clf3, clf4, clf5, X_train, X_test, y_train, y_test\n"
   ]
  },
  {
   "cell_type": "code",
   "execution_count": 68,
   "metadata": {},
   "outputs": [],
   "source": [
    "def predict(case):\n",
    "    clf, clf2, clf3, clf4, clf5, X_train, X_test, y_train, y_test = classifiers(case)\n",
    "    y_test_pred = clf.predict(X_test)\n",
    "    y_test_pred2 = clf2.predict(X_test)\n",
    "    y_test_pred3 = clf3.predict(X_test)\n",
    "    y_test_pred4 = clf4.predict(X_test)\n",
    "    y_test_pred5 = clf5.predict(X_test)\n",
    "    return y_test_pred, y_test_pred2, y_test_pred3, y_test_pred4, y_test_pred5, y_test"
   ]
  },
  {
   "cell_type": "code",
   "execution_count": 72,
   "metadata": {},
   "outputs": [],
   "source": [
    "from sklearn.metrics import classification_report\n",
    "notes=['8th note', 'quarter note', 'half note']\n",
    "clef=['g-clef', 'f-clef']\n",
    "key=[ 'G major E minor', 'D major B minor', 'E-flat major C minor', 'A-flat major F minor']\n",
    "dynamic=['pianissimo', 'piano','mezzo forte' , 'forte', 'fortissimo', 'sforzando']\n",
    "\n",
    "#Label: notes,clef,key or dynamic\n",
    "def evaluate(case):\n",
    "    y_test_pred, y_test_pred2, y_test_pred3, y_test_pred4, y_test_pred5, y_test = predict(case)\n",
    "    if case=='notes':\n",
    "        label=notes\n",
    "    elif case=='clefs':\n",
    "        label=clef\n",
    "    elif case=='keys':\n",
    "        label=key\n",
    "    elif case=='dynamics':\n",
    "        label=dynamic\n",
    "    print('----------- Model : ',1,'K-NN ---------------------')\n",
    "    print(classification_report(y_test, y_test_pred, target_names=label))\n",
    "\n",
    "    print('----------- Model :',2,'Random Forest ------------')\n",
    "    print(classification_report(y_test, y_test_pred2, target_names=label))\n",
    "\n",
    "    print('----------- Model ',3,'SVM     --------------------')\n",
    "    print(classification_report(y_test, y_test_pred3, target_names=label))\n",
    "\n",
    "    print('----------- Model ',4,'Adaboost     ------------------')\n",
    "    print(classification_report(y_test, y_test_pred4, target_names=label))\n",
    "\n",
    "    print('----------- Model ',5,'Neuronal Network  ---------------')\n",
    "    print(classification_report(y_test, y_test_pred5, target_names=label))"
   ]
  },
  {
   "cell_type": "code",
   "execution_count": 51,
   "metadata": {},
   "outputs": [
    {
     "name": "stderr",
     "output_type": "stream",
     "text": [
      "/home/camilo/miniconda3/envs/ML_course/lib/python3.7/site-packages/sklearn/svm/base.py:193: FutureWarning: The default value of gamma will change from 'auto' to 'scale' in version 0.22 to account better for unscaled features. Set gamma explicitly to 'auto' or 'scale' to avoid this warning.\n",
      "  \"avoid this warning.\", FutureWarning)\n"
     ]
    },
    {
     "name": "stdout",
     "output_type": "stream",
     "text": [
      "----------- Model :  1 K-NN ---------------------\n",
      "              precision    recall  f1-score   support\n",
      "\n",
      "  pianissimo       0.75      1.00      0.86        12\n",
      "       piano       0.92      0.92      0.92        12\n",
      " mezzo forte       1.00      0.50      0.67         6\n",
      "       forte       0.75      0.75      0.75        12\n",
      "  fortissimo       0.80      0.67      0.73        12\n",
      "   sforzando       0.85      0.92      0.88        12\n",
      "\n",
      "    accuracy                           0.82        66\n",
      "   macro avg       0.84      0.79      0.80        66\n",
      "weighted avg       0.83      0.82      0.81        66\n",
      "\n",
      "----------- Model : 2 Random Forest ------------\n",
      "              precision    recall  f1-score   support\n",
      "\n",
      "  pianissimo       1.00      1.00      1.00        12\n",
      "       piano       0.92      1.00      0.96        12\n",
      " mezzo forte       0.75      0.50      0.60         6\n",
      "       forte       0.80      1.00      0.89        12\n",
      "  fortissimo       0.80      0.67      0.73        12\n",
      "   sforzando       0.92      0.92      0.92        12\n",
      "\n",
      "    accuracy                           0.88        66\n",
      "   macro avg       0.86      0.85      0.85        66\n",
      "weighted avg       0.88      0.88      0.87        66\n",
      "\n",
      "----------- Model  3 SVM     --------------------\n",
      "              precision    recall  f1-score   support\n",
      "\n",
      "  pianissimo       0.92      1.00      0.96        12\n",
      "       piano       1.00      1.00      1.00        12\n",
      " mezzo forte       0.00      0.00      0.00         6\n",
      "       forte       0.62      0.83      0.71        12\n",
      "  fortissimo       0.64      0.58      0.61        12\n",
      "   sforzando       0.79      0.92      0.85        12\n",
      "\n",
      "    accuracy                           0.79        66\n",
      "   macro avg       0.66      0.72      0.69        66\n",
      "weighted avg       0.72      0.79      0.75        66\n",
      "\n",
      "----------- Model  4 Adaboost     ------------------\n",
      "              precision    recall  f1-score   support\n",
      "\n",
      "  pianissimo       0.67      0.83      0.74        12\n",
      "       piano       0.64      0.58      0.61        12\n",
      " mezzo forte       0.50      0.33      0.40         6\n",
      "       forte       0.69      0.75      0.72        12\n",
      "  fortissimo       0.50      0.08      0.14        12\n",
      "   sforzando       0.38      0.67      0.48        12\n",
      "\n",
      "    accuracy                           0.56        66\n",
      "   macro avg       0.56      0.54      0.52        66\n",
      "weighted avg       0.57      0.56      0.53        66\n",
      "\n",
      "----------- Model  5 Neuronal Network  ---------------\n",
      "              precision    recall  f1-score   support\n",
      "\n",
      "  pianissimo       1.00      1.00      1.00        12\n",
      "       piano       0.86      1.00      0.92        12\n",
      " mezzo forte       1.00      0.50      0.67         6\n",
      "       forte       0.92      1.00      0.96        12\n",
      "  fortissimo       0.78      0.58      0.67        12\n",
      "   sforzando       0.73      0.92      0.81        12\n",
      "\n",
      "    accuracy                           0.86        66\n",
      "   macro avg       0.88      0.83      0.84        66\n",
      "weighted avg       0.87      0.86      0.85        66\n",
      "\n"
     ]
    },
    {
     "name": "stderr",
     "output_type": "stream",
     "text": [
      "/home/camilo/miniconda3/envs/ML_course/lib/python3.7/site-packages/sklearn/metrics/classification.py:1437: UndefinedMetricWarning: Precision and F-score are ill-defined and being set to 0.0 in labels with no predicted samples.\n",
      "  'precision', 'predicted', average, warn_for)\n"
     ]
    }
   ],
   "source": [
    "evaluate('dynamics')"
   ]
  },
  {
   "cell_type": "code",
   "execution_count": 63,
   "metadata": {},
   "outputs": [
    {
     "name": "stderr",
     "output_type": "stream",
     "text": [
      "/home/camilo/miniconda3/envs/ML_course/lib/python3.7/site-packages/sklearn/svm/base.py:193: FutureWarning: The default value of gamma will change from 'auto' to 'scale' in version 0.22 to account better for unscaled features. Set gamma explicitly to 'auto' or 'scale' to avoid this warning.\n",
      "  \"avoid this warning.\", FutureWarning)\n"
     ]
    },
    {
     "name": "stdout",
     "output_type": "stream",
     "text": [
      "----------- Model :  1 K-NN ---------------------\n",
      "                      precision    recall  f1-score   support\n",
      "\n",
      "     G major E minor       1.00      0.95      0.97        20\n",
      "     D major B minor       1.00      0.95      0.97        19\n",
      "E-flat major C minor       1.00      0.75      0.86        20\n",
      "A-flat major F minor       0.73      1.00      0.84        19\n",
      "\n",
      "            accuracy                           0.91        78\n",
      "           macro avg       0.93      0.91      0.91        78\n",
      "        weighted avg       0.93      0.91      0.91        78\n",
      "\n",
      "----------- Model : 2 Random Forest ------------\n",
      "                      precision    recall  f1-score   support\n",
      "\n",
      "     G major E minor       0.95      0.95      0.95        20\n",
      "     D major B minor       0.95      0.95      0.95        19\n",
      "E-flat major C minor       1.00      0.95      0.97        20\n",
      "A-flat major F minor       0.95      1.00      0.97        19\n",
      "\n",
      "            accuracy                           0.96        78\n",
      "           macro avg       0.96      0.96      0.96        78\n",
      "        weighted avg       0.96      0.96      0.96        78\n",
      "\n",
      "----------- Model  3 SVM     --------------------\n",
      "                      precision    recall  f1-score   support\n",
      "\n",
      "     G major E minor       0.95      1.00      0.98        20\n",
      "     D major B minor       1.00      0.95      0.97        19\n",
      "E-flat major C minor       1.00      0.95      0.97        20\n",
      "A-flat major F minor       0.95      1.00      0.97        19\n",
      "\n",
      "            accuracy                           0.97        78\n",
      "           macro avg       0.98      0.97      0.97        78\n",
      "        weighted avg       0.98      0.97      0.97        78\n",
      "\n",
      "----------- Model  4 Adaboost     ------------------\n",
      "                      precision    recall  f1-score   support\n",
      "\n",
      "     G major E minor       0.84      0.80      0.82        20\n",
      "     D major B minor       0.36      0.21      0.27        19\n",
      "E-flat major C minor       1.00      0.45      0.62        20\n",
      "A-flat major F minor       0.49      1.00      0.66        19\n",
      "\n",
      "            accuracy                           0.62        78\n",
      "           macro avg       0.67      0.62      0.59        78\n",
      "        weighted avg       0.68      0.62      0.59        78\n",
      "\n",
      "----------- Model  5 Neuronal Network  ---------------\n",
      "                      precision    recall  f1-score   support\n",
      "\n",
      "     G major E minor       0.95      0.95      0.95        20\n",
      "     D major B minor       1.00      0.95      0.97        19\n",
      "E-flat major C minor       1.00      0.95      0.97        20\n",
      "A-flat major F minor       0.90      1.00      0.95        19\n",
      "\n",
      "            accuracy                           0.96        78\n",
      "           macro avg       0.96      0.96      0.96        78\n",
      "        weighted avg       0.96      0.96      0.96        78\n",
      "\n"
     ]
    }
   ],
   "source": [
    "evaluate('keys')"
   ]
  },
  {
   "cell_type": "code",
   "execution_count": 70,
   "metadata": {},
   "outputs": [
    {
     "name": "stderr",
     "output_type": "stream",
     "text": [
      "/home/camilo/miniconda3/envs/ML_course/lib/python3.7/site-packages/sklearn/svm/base.py:193: FutureWarning: The default value of gamma will change from 'auto' to 'scale' in version 0.22 to account better for unscaled features. Set gamma explicitly to 'auto' or 'scale' to avoid this warning.\n",
      "  \"avoid this warning.\", FutureWarning)\n"
     ]
    },
    {
     "name": "stdout",
     "output_type": "stream",
     "text": [
      "----------- Model :  1 K-NN ---------------------\n",
      "              precision    recall  f1-score   support\n",
      "\n",
      "      g-clef       0.89      1.00      0.94        72\n",
      "      f-clef       1.00      0.87      0.93        71\n",
      "\n",
      "    accuracy                           0.94       143\n",
      "   macro avg       0.94      0.94      0.94       143\n",
      "weighted avg       0.94      0.94      0.94       143\n",
      "\n",
      "----------- Model : 2 Random Forest ------------\n",
      "              precision    recall  f1-score   support\n",
      "\n",
      "      g-clef       0.99      0.99      0.99        72\n",
      "      f-clef       0.99      0.99      0.99        71\n",
      "\n",
      "    accuracy                           0.99       143\n",
      "   macro avg       0.99      0.99      0.99       143\n",
      "weighted avg       0.99      0.99      0.99       143\n",
      "\n",
      "----------- Model  3 SVM     --------------------\n",
      "              precision    recall  f1-score   support\n",
      "\n",
      "      g-clef       0.99      1.00      0.99        72\n",
      "      f-clef       1.00      0.99      0.99        71\n",
      "\n",
      "    accuracy                           0.99       143\n",
      "   macro avg       0.99      0.99      0.99       143\n",
      "weighted avg       0.99      0.99      0.99       143\n",
      "\n",
      "----------- Model  4 Adaboost     ------------------\n",
      "              precision    recall  f1-score   support\n",
      "\n",
      "      g-clef       0.99      1.00      0.99        72\n",
      "      f-clef       1.00      0.99      0.99        71\n",
      "\n",
      "    accuracy                           0.99       143\n",
      "   macro avg       0.99      0.99      0.99       143\n",
      "weighted avg       0.99      0.99      0.99       143\n",
      "\n",
      "----------- Model  5 Neuronal Network  ---------------\n",
      "              precision    recall  f1-score   support\n",
      "\n",
      "      g-clef       0.97      1.00      0.99        72\n",
      "      f-clef       1.00      0.97      0.99        71\n",
      "\n",
      "    accuracy                           0.99       143\n",
      "   macro avg       0.99      0.99      0.99       143\n",
      "weighted avg       0.99      0.99      0.99       143\n",
      "\n"
     ]
    }
   ],
   "source": [
    "evaluate('clefs')"
   ]
  },
  {
   "cell_type": "code",
   "execution_count": 73,
   "metadata": {},
   "outputs": [
    {
     "name": "stderr",
     "output_type": "stream",
     "text": [
      "/home/camilo/miniconda3/envs/ML_course/lib/python3.7/site-packages/sklearn/svm/base.py:193: FutureWarning: The default value of gamma will change from 'auto' to 'scale' in version 0.22 to account better for unscaled features. Set gamma explicitly to 'auto' or 'scale' to avoid this warning.\n",
      "  \"avoid this warning.\", FutureWarning)\n"
     ]
    },
    {
     "name": "stdout",
     "output_type": "stream",
     "text": [
      "----------- Model :  1 K-NN ---------------------\n",
      "              precision    recall  f1-score   support\n",
      "\n",
      "    8th note       1.00      0.95      0.97        97\n",
      "quarter note       0.80      0.98      0.88        98\n",
      "   half note       0.96      0.80      0.87        98\n",
      "\n",
      "    accuracy                           0.91       293\n",
      "   macro avg       0.92      0.91      0.91       293\n",
      "weighted avg       0.92      0.91      0.91       293\n",
      "\n",
      "----------- Model : 2 Random Forest ------------\n",
      "              precision    recall  f1-score   support\n",
      "\n",
      "    8th note       0.95      0.99      0.97        97\n",
      "quarter note       0.93      0.95      0.94        98\n",
      "   half note       0.97      0.91      0.94        98\n",
      "\n",
      "    accuracy                           0.95       293\n",
      "   macro avg       0.95      0.95      0.95       293\n",
      "weighted avg       0.95      0.95      0.95       293\n",
      "\n",
      "----------- Model  3 SVM     --------------------\n",
      "              precision    recall  f1-score   support\n",
      "\n",
      "    8th note       0.95      0.97      0.96        97\n",
      "quarter note       0.86      0.92      0.89        98\n",
      "   half note       0.94      0.86      0.90        98\n",
      "\n",
      "    accuracy                           0.91       293\n",
      "   macro avg       0.92      0.91      0.91       293\n",
      "weighted avg       0.92      0.91      0.91       293\n",
      "\n",
      "----------- Model  4 Adaboost     ------------------\n",
      "              precision    recall  f1-score   support\n",
      "\n",
      "    8th note       0.90      0.82      0.86        97\n",
      "quarter note       0.75      0.89      0.81        98\n",
      "   half note       0.93      0.84      0.88        98\n",
      "\n",
      "    accuracy                           0.85       293\n",
      "   macro avg       0.86      0.85      0.85       293\n",
      "weighted avg       0.86      0.85      0.85       293\n",
      "\n",
      "----------- Model  5 Neuronal Network  ---------------\n",
      "              precision    recall  f1-score   support\n",
      "\n",
      "    8th note       0.95      0.99      0.97        97\n",
      "quarter note       0.90      0.94      0.92        98\n",
      "   half note       0.97      0.89      0.93        98\n",
      "\n",
      "    accuracy                           0.94       293\n",
      "   macro avg       0.94      0.94      0.94       293\n",
      "weighted avg       0.94      0.94      0.94       293\n",
      "\n"
     ]
    }
   ],
   "source": [
    "evaluate('notes')"
   ]
  }
 ],
 "metadata": {
  "kernelspec": {
   "display_name": "Python 3",
   "language": "python",
   "name": "python3"
  },
  "language_info": {
   "codemirror_mode": {
    "name": "ipython",
    "version": 3
   },
   "file_extension": ".py",
   "mimetype": "text/x-python",
   "name": "python",
   "nbconvert_exporter": "python",
   "pygments_lexer": "ipython3",
   "version": "3.7.5"
  }
 },
 "nbformat": 4,
 "nbformat_minor": 2
}
